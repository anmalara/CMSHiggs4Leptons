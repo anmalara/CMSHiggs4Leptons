{
 "cells": [
  {
   "cell_type": "code",
   "execution_count": 5,
   "id": "frank-tooth",
   "metadata": {},
   "outputs": [],
   "source": [
    "import os,sys, math, ROOT\n",
    "from array import array\n",
    "import numpy as np\n",
    "from collections import OrderedDict\n",
    "\n",
    "#Importing a helper file where some functions are defined\n",
    "from helper import *\n",
    "from helper_advanced import *\n",
    "\n",
    "debug=False\n",
    "doIDs=False\n",
    "doPTs=12\n",
    "do4Lep=True\n",
    "weight = 1\n",
    "\n",
    "selections = OrderedDict([\n",
    "    ('nocuts', None),\n",
    "    ('4Lep', 4),\n",
    "    (\"Cat\", None),\n",
    "    (\"matching\", None),\n",
    "    (\"NoJPsi\", None),\n",
    "    (\"RealZ\", 10),\n",
    "    ])\n",
    "\n",
    "hists = {}"
   ]
  },
  {
   "cell_type": "code",
   "execution_count": 6,
   "id": "dietary-expense",
   "metadata": {},
   "outputs": [],
   "source": [
    "def recreatehistograms():\n",
    "    for key in list(hists.keys()):\n",
    "        del hists[key]\n",
    "    # hists['cutflow'] = ROOT.TH1F(\"cutflow\",\";cutflow;Events\", len(selections), -0.5, len(selections)-0.5)\n",
    "    for ind,sel in enumerate(selections.keys()):\n",
    "        # hists[str(ind)+'_'+sel+'_nEvents'] = ROOT.TH1F(sel+\"nEvents\", \";Counting experiment;Events\", 1, -0.5, 1.5)\n",
    "        # hists[str(ind)+'_'+sel+'_npv'] = ROOT.TH1F(sel+\"hist_NPV\", \";Number of reconstructed vertices;Events\", 100, 0, 100)\n",
    "        # hists['dR_Lep'] = ROOT.TH1F(\"dR_LEP\",\";#Delta R(lep_i,lep_j);Events\", 100, 0, 5)\n",
    "        # for lep in ['Muo','Ele','Lep']:\n",
    "        #     hists[str(ind)+'_'+sel+'_n'+lep] = ROOT.TH1F(sel+\"n\"+lep,\";n\"+lep+\";Events\", 11, -0.5, 10.5)\n",
    "        #     hists[str(ind)+'_'+sel+'_pt'+lep] = ROOT.TH1F(sel+\"pt\"+lep,\";p_{T}^{\"+lep+\"};Events\", 50, 0, 200)\n",
    "        #     hists[str(ind)+'_'+sel+'_eta'+lep] = ROOT.TH1F(sel+\"_eta\"+lep,\";#eta^{\"+lep+\"};Events\", 60, -3.0, 3.0)\n",
    "        #     hists[str(ind)+'_'+sel+'_phi'+lep] = ROOT.TH1F(sel+\"_phi\"+lep,\";#phi^{\"+lep+\"};Events\", 70, -3.5, 3.5)\n",
    "        #     hists[str(ind)+'_'+sel+'_id'+lep] = ROOT.TH1F(sel+\"_id\"+lep,\";passID;Events\", 2, -0.5, 1.5)\n",
    "        #     hists[str(ind)+'_'+sel+'_dR'+lep] = ROOT.TH1F(sel+\"dR\"+lep,\";#Delta R(\"+lep+\",lep_j);Events\", 100, 0, 5)\n",
    "        # if ind<4: continue\n",
    "        hists[str(ind)+'_'+sel+'_massH'] = ROOT.TH1F(sel+\"hist_massH\",\";Four Lepton Invariant Mass;Events\", 500, 0, 500)\n",
    "        # hists[str(ind)+'_'+sel+'_massZ1'] = ROOT.TH1F(sel+\"_massZ1\",\";M(Z1);Events\", 500, 0, 500)\n",
    "        # hists[str(ind)+'_'+sel+'_massZ2'] = ROOT.TH1F(sel+\"_massZ2\",\";M(Z2);Events\", 500, 0, 500)\n",
    "        # hists[str(ind)+'_'+sel+'_massJpsi'] = ROOT.TH1F(sel+\"_massjpsi\",\";M(ll);Events\", 200, 0, 10)\n",
    "        # hists[str(ind)+'_'+sel+'_massZ1_vs_Z2'] = ROOT.TH2F(sel+\"_massZ1_vs_Z2\",\";M(Z1);M(Z2);Events\", 250, 0, 500, 250, 0, 500)\n",
    "        # hists[str(ind)+'_'+sel+'_dRZ1'] = ROOT.TH1F(sel+\"_dRZ1\",\";#Delta R(lep_1,lep_2)^{Z_1};Events\", 100, 0, 5)\n",
    "        # hists[str(ind)+'_'+sel+'_dRZ2'] = ROOT.TH1F(sel+\"_dRZ2\",\";#Delta R(lep_1,lep_2)^{Z_2};Events\", 100, 0, 5)\n",
    "        # hists[str(ind)+'_'+sel+'_dRZ1Z2'] = ROOT.TH1F(sel+\"_dRZ1Z2\",\";#Delta R(Z_1,Z_2);Events\", 100, 0, 5)\n",
    "\n",
    "def fillhist(events,selections, sel):\n",
    "    global weight\n",
    "    print(len(events))\n",
    "    index = list(selections.keys()).index(sel)\n",
    "    hname = str(index)+'_'+sel\n",
    "    # hists['cutflow'].SetBinContent(index+1,len(events))\n",
    "    for ev in events:\n",
    "        # hists[hname+'_nEvents'].Fill(1,weight)\n",
    "        # hists[hname+'_npv'].Fill(ev['npv'],weight)\n",
    "        # for flav in ['Muo','Ele','Lep']:\n",
    "        #     nLep = ev[\"n\"+flav]\n",
    "        #     hists[hname+'_n'+flav].Fill(nLep,weight)\n",
    "        # for ind in range(0,10):\n",
    "        #     if not \"lep\"+str(ind) in ev: continue\n",
    "        #     lep = ev[\"lep\"+str(ind)]\n",
    "        #     flavor = ev[\"lep\"+str(ind)+\"flavor\"]\n",
    "        #     for flav in ['Muo','Ele','Lep']:\n",
    "        #         if flav=='Muo' and abs(flavor)!=13: continue\n",
    "        #         if flav=='Ele' and abs(flavor)!=11: continue\n",
    "        #         hists[hname+'_pt'+flav].Fill(lep.Pt(),weight)\n",
    "        #         hists[hname+'_eta'+flav].Fill(lep.Eta(),weight)\n",
    "        #         hists[hname+'_phi'+flav].Fill(lep.Phi(),weight)\n",
    "        #         hists[hname+'_id'+flav].Fill(ev[\"lep\"+str(ind)+\"passID\"],weight)\n",
    "        # if index<4: continue\n",
    "        hists[hname+'_massH'].Fill(ev['H'].M(),weight)\n",
    "        # hists[hname+'_massZ1'].Fill(ev['Z1'].M(),weight)\n",
    "        # hists[hname+'_massZ2'].Fill(ev['Z2'].M(),weight)\n",
    "        # hists[hname+'_massJpsi'].Fill(ev['Z1'].M(),weight)\n",
    "        # hists[hname+'_massJpsi'].Fill(ev['Z2'].M(),weight)\n",
    "        # hists[hname+'_massZ1_vs_Z2'].Fill(ev['Z1'].M(),ev['Z2'].M(),weight)\n",
    "        # hists[hname+'_dRZ1Z2'].Fill(ev['Z1'].DeltaR(ev['Z2']),weight)\n",
    "        # if 'allPairs' in ev:\n",
    "        #     indices = ev[\"allPairs\"][0].copy()\n",
    "        #     hists[hname+'_dRZ1'].Fill(ev[\"lep\"+indices[0]].DeltaR(ev[\"lep\"+indices[1]]),weight)\n",
    "        #     hists[hname+'_dRZ2'].Fill(ev[\"lep\"+indices[2]].DeltaR(ev[\"lep\"+indices[3]]),weight)"
   ]
  },
  {
   "cell_type": "code",
   "execution_count": 7,
   "id": "cutting-section",
   "metadata": {},
   "outputs": [
    {
     "name": "stdout",
     "output_type": "stream",
     "text": [
      "Number of entries:  104317\n"
     ]
    }
   ],
   "source": [
    "os.system('mkdir -p pdfs')\n",
    "recreatehistograms()\n",
    "# inputfile = ROOT.TFile(\"events4leptonsCMS_FullRun2.root\",\"READ\")\n",
    "# tree = inputfile.Get(\"tree\")\n",
    "# inputfile = ROOT.TFile(\"MC_signal.root\",\"READ\")\n",
    "inputfile = ROOT.TFile(\"data.root\",\"READ\")\n",
    "tree = inputfile.Get(\"ntuplizer/tree\")\n",
    "outputfile = ROOT.TFile(\"output.root\",\"RECREATE\")\n",
    "    \n",
    "if 'MC' in inputfile.GetName():\n",
    "    br = 0.026*0.1*0.1\n",
    "    weight = 55.*br*137./3706044 #(xsec*BR*Lumi/NGen)\n",
    "        \n",
    "nentries = tree.GetEntries()\n",
    "# nentries = 10000\n",
    "if 'MC' in inputfile.GetName():\n",
    "    weight *= 1.*tree.GetEntries()/nentries\n",
    "print(\"Number of entries: \", nentries)\n",
    "ntot = 0\n",
    "n4muo = 0\n",
    "n4ele = 0\n",
    "n2m2e = 0"
   ]
  },
  {
   "cell_type": "code",
   "execution_count": 8,
   "id": "thrown-broadway",
   "metadata": {},
   "outputs": [
    {
     "name": "stdout",
     "output_type": "stream",
     "text": [
      "104317\n"
     ]
    }
   ],
   "source": [
    "events = []\n",
    "for i in range(0, nentries):\n",
    "    #Load entry number i\n",
    "    tree.GetEntry(i)\n",
    "    event = {}\n",
    "    event[\"npv\"] = tree._n_PV\n",
    "    event[\"event\"] = tree._eventNb\n",
    "    event[\"nMuo\"] = 0\n",
    "    event[\"nEle\"] = 0\n",
    "    event[\"nLep\"] = 0\n",
    "    event[\"H\"] = ROOT.TLorentzVector()\n",
    "    event[\"Z1\"] = ROOT.TLorentzVector()\n",
    "    event[\"Z2\"] = ROOT.TLorentzVector()\n",
    "    for ind in range(0,len(tree._lPt)):\n",
    "        lep = ROOT.TLorentzVector()\n",
    "        lep.SetPtEtaPhiM(tree._lPt[ind],tree._lEta[ind],tree._lPhi[ind],0)\n",
    "        event[\"lep\"+str(ind)] = lep\n",
    "        event[\"lep\"+str(ind)+\"flavor\"] = tree._lpdgId[ind]\n",
    "        event[\"lep\"+str(ind)+\"passID\"] = tree._lPassTightID[ind]\n",
    "        event[\"nLep\"] += 1\n",
    "        if (abs(event[\"lep\"+str(ind)+\"flavor\"])==11): event[\"nEle\"] += 1\n",
    "        if (abs(event[\"lep\"+str(ind)+\"flavor\"])==13): event[\"nMuo\"] += 1\n",
    "    if 'lep0' in event and 'lep1' in event:\n",
    "        event[\"Z1\"] = event[\"lep0\"]+event[\"lep1\"]\n",
    "        if 'lep2' in event and 'lep3' in event:\n",
    "            event[\"H\"] = event[\"lep0\"]+event[\"lep1\"]+event[\"lep2\"]+event[\"lep3\"]\n",
    "            event[\"Z2\"] = event[\"lep2\"]+event[\"lep3\"]\n",
    "    # print(event[\"nMuo\"],event[\"nEle\"],event[\"nLep\"])\n",
    "    # if (tree._eventNb==602182346):\n",
    "    #     print(event)\n",
    "    #     print([(event[\"lep\"+str(i)].M(), event[\"lep\"+str(i)].Pt()) for i in range(0,4)] )\n",
    "    #     for ind in range(0,len(tree._lPt)):\n",
    "    #         print(tree._lPt[ind],tree._lEta[ind],tree._lPhi[ind])\n",
    "    # else: continue\n",
    "    events.append(event)\n",
    "\n",
    "fillhist(events, selections, \"nocuts\")"
   ]
  },
  {
   "cell_type": "code",
   "execution_count": 9,
   "id": "blocked-benjamin",
   "metadata": {},
   "outputs": [
    {
     "name": "stdout",
     "output_type": "stream",
     "text": [
      "104317\n",
      "104317\n"
     ]
    }
   ],
   "source": [
    "category = \"4Lep\"\n",
    "# category = \"4Muo\"\n",
    "# category = \"4Ele\"\n",
    "# category = \"2M2E\"\n",
    "\n",
    "for ev in events.copy():\n",
    "    if do4Lep and ev['nLep']<selections[\"4Lep\"]: events.remove(ev)\n",
    "fillhist(events, selections, \"4Lep\")\n",
    "for ev in events.copy():\n",
    "    if category==\"4Muo\" and ev['nMuo']<4: events.remove(ev)\n",
    "    if category==\"4Ele\" and ev['nEle']<4: events.remove(ev)\n",
    "    if category==\"2M2E\" and ev['nMuo']<2 and ev['nEle']<2: events.remove(ev)\n",
    "fillhist(events, selections, \"Cat\")"
   ]
  },
  {
   "cell_type": "code",
   "execution_count": 10,
   "id": "promising-mouth",
   "metadata": {},
   "outputs": [],
   "source": [
    "eff_Z_ref = 0\n",
    "eff_H_ref = 0\n",
    "eff_OS_ref = 0\n",
    "for ev in events:\n",
    "    if ev[\"H\"].M()>80  and ev[\"H\"].M()<100: eff_Z_ref+=weight\n",
    "    if ev[\"H\"].M()>120 and ev[\"H\"].M()<130: eff_H_ref+=weight\n",
    "    if ev[\"H\"].M()>200 and ev[\"H\"].M()<501: eff_OS_ref+=weight\n",
    "# print (\"Ref Eff\", category, eff_Z_ref, eff_H_ref, eff_OS_ref)\n",
    "\n",
    "def PassLepton(ev,ind):\n",
    "    pass_ = True\n",
    "    lep_pt = ev[\"lep\"+str(ind)].Pt()\n",
    "    lep_fl = event[\"lep\"+str(ind)+\"flavor\"]\n",
    "    lep_id = event[\"lep\"+str(ind)+\"passID\"]\n",
    "    # if doIDs and abs(lep_fl)==13 and not lep_id: pass_=False\n",
    "    # if doPTs>0 and abs(lep_fl)==11 and lep_pt<doPTs: pass_=False\n",
    "    # if doPTs>0 and lep_pt<doPTs: pass_=False\n",
    "    return pass_"
   ]
  },
  {
   "cell_type": "code",
   "execution_count": 11,
   "id": "exciting-listening",
   "metadata": {},
   "outputs": [],
   "source": [
    "for ev in events:\n",
    "    ev[\"allPairs\"] = []\n",
    "    for i in range(0,10):\n",
    "        if not \"lep\"+str(i) in ev: continue\n",
    "        # if not PassLepton(ev,i): continue\n",
    "        for j in range(0,10):\n",
    "            if j<=i: continue\n",
    "            if not \"lep\"+str(j) in ev: continue\n",
    "            # if not PassLepton(ev,j): continue\n",
    "            if not SameFlavOppCharge(ev,i,j):continue\n",
    "            for k in range(0,10):\n",
    "                if not \"lep\"+str(k) in ev: continue\n",
    "                # if not PassLepton(ev,k): continue\n",
    "                if k==i or k==j: continue\n",
    "                for l in range(0,10):\n",
    "                    if l==i or l==j or l<=k: continue\n",
    "                    if not \"lep\"+str(l) in ev: continue\n",
    "                    # if not PassLepton(ev,l): continue\n",
    "                    if not SameFlavOppCharge(ev,k,l):continue\n",
    "                    if any([str(i),str(j),str(k),str(l)]==x or [str(k),str(l),str(i),str(j)]== x for x in ev[\"allPairs\"]): continue\n",
    "                    if category==\"2M2E\" and abs(ev[\"lep\"+str(i)+\"flavor\"])==abs(ev[\"lep\"+str(k)+\"flavor\"]): continue\n",
    "                    lep_pts = list(reversed(sorted([ev[\"lep\"+str(ind)].Pt() for ind in [i,j,k,l]])))\n",
    "                    lep_flav = [ev[\"lep\"+str(ind)+\"flavor\"] for ind in [i,j,k,l]]\n",
    "                    if lep_pts[0]<15: continue\n",
    "                    if lep_pts[1]<15: continue\n",
    "                    if lep_pts[2]<12: continue\n",
    "                    if lep_pts[3]<12: continue\n",
    "                    ev[\"allPairs\"].append([str(i),str(j),str(k),str(l)])\n"
   ]
  },
  {
   "cell_type": "code",
   "execution_count": 12,
   "id": "30651538",
   "metadata": {},
   "outputs": [
    {
     "name": "stdout",
     "output_type": "stream",
     "text": [
      "10040\n"
     ]
    }
   ],
   "source": [
    "for ev in events.copy():\n",
    "    if len(ev[\"allPairs\"])==0: events.remove(ev)\n",
    "\n",
    "fillhist(events, selections, \"matching\")"
   ]
  },
  {
   "cell_type": "code",
   "execution_count": 15,
   "id": "156121b1",
   "metadata": {},
   "outputs": [
    {
     "name": "stdout",
     "output_type": "stream",
     "text": [
      "7939\n"
     ]
    }
   ],
   "source": [
    "for ev in events.copy():\n",
    "    for pair in ev[\"allPairs\"].copy():\n",
    "        ev[\"Z1\"] = ev[\"lep\"+str(pair[0])]+ev[\"lep\"+str(pair[1])]\n",
    "        ev[\"Z2\"] = ev[\"lep\"+str(pair[2])]+ev[\"lep\"+str(pair[3])]\n",
    "        if ev[\"Z1\"].M()<4 or ev[\"Z2\"].M()<4 or ev['Z1'].DeltaR(ev['Z2'])<0.4: ev[\"allPairs\"].remove(pair)\n",
    "    if len(ev[\"allPairs\"])==0: events.remove(ev)\n",
    "\n",
    "for ev in events:\n",
    "    indices = ev[\"allPairs\"][0].copy()\n",
    "    ev[\"H\"] = ev[\"lep\"+indices[0]]+ev[\"lep\"+indices[1]]+ev[\"lep\"+indices[2]]+ev[\"lep\"+indices[3]]\n",
    "    ev[\"Z1\"] = ev[\"lep\"+indices[0]]+ev[\"lep\"+indices[1]]\n",
    "    ev[\"Z2\"] = ev[\"lep\"+indices[2]]+ev[\"lep\"+indices[3]]\n",
    "    if ev[\"Z1\"].M() < ev[\"Z2\"].M():\n",
    "        ev[\"Z2\"] = ev[\"lep\"+indices[0]]+ev[\"lep\"+indices[1]]\n",
    "        ev[\"Z1\"] = ev[\"lep\"+indices[2]]+ev[\"lep\"+indices[3]]\n",
    "        ev[\"allPairs\"][0] = [indices[2],indices[3],indices[0],indices[1]]\n",
    "fillhist(events, selections, \"NoJPsi\")"
   ]
  },
  {
   "cell_type": "code",
   "execution_count": 49,
   "id": "8e922667",
   "metadata": {},
   "outputs": [
    {
     "name": "stderr",
     "output_type": "stream",
     "text": [
      "Warning in <TFile::Append>: Replacing existing TH1: h1 (Potential memory leak).\n"
     ]
    },
    {
     "data": {
      "image/png": "[encoded data removed]",
      "text/plain": [
       "<IPython.core.display.Image object>"
      ]
     },
     "metadata": {},
     "output_type": "display_data"
    }
   ],
   "source": [
    "hist.Delete()\n",
    "h1.Delete()\n",
    "h2.Delete()\n",
    "c.Close()\n",
    "hist = ROOT.TH1F(\"hist_massH\",\";Four Lepton Invariant Mass;Events\", 500, 0, 500)\n",
    "h1 = ROOT.TH1F(\"h1\",\";;Events\", 50, 0, 10)\n",
    "h2 = ROOT.TH1F(\"h1\",\";;Events\", 50, 0, 10)\n",
    "for ev in events:\n",
    "    # hist.Fill(ev['H'].M(),weight)\n",
    "    sel = ev['H'].M()>130 and ev['H'].M()<200\n",
    "    pair = ev['allPairs'][0]\n",
    "    var = (ev['lep'+pair[0]]+ev['lep'+pair[2]]).M()\n",
    "    if sel: h1.Fill(var,weight)\n",
    "    else:   h2.Fill(var,weight)\n",
    "c = ROOT.TCanvas(\"myCanvasName\",\"The Canvas Title\",800,600)\n",
    "# hist.Draw()\n",
    "h1.Scale(1./h1.Integral())\n",
    "h2.Scale(1./h2.Integral())\n",
    "h1.SetLineColor(ROOT.kRed)\n",
    "h2.SetLineColor(ROOT.kBlue)\n",
    "h1.Draw()\n",
    "h2.Draw(\"same\")\n",
    "c.Draw()"
   ]
  },
  {
   "cell_type": "code",
   "execution_count": null,
   "id": "6da6fa3c",
   "metadata": {},
   "outputs": [],
   "source": []
  }
 ],
 "metadata": {
  "kernelspec": {
   "display_name": "Python 3",
   "language": "python",
   "name": "python3"
  },
  "language_info": {
   "codemirror_mode": {
    "name": "ipython",
    "version": 3
   },
   "file_extension": ".py",
   "mimetype": "text/x-python",
   "name": "python",
   "nbconvert_exporter": "python",
   "pygments_lexer": "ipython3",
   "version": "3.10.4"
  },
  "vscode": {
   "interpreter": {
    "hash": "7a792fcb311f9eb9f3c1b942a8c87ada8484712b89b670347c16a1088e0a1f69"
   }
  }
 },
 "nbformat": 4,
 "nbformat_minor": 5
}
