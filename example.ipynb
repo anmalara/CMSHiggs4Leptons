{
 "cells": [
  {
   "cell_type": "code",
   "execution_count": null,
   "id": "frank-tooth",
   "metadata": {},
   "outputs": [],
   "source": [
    "import os, sys, math, ROOT\n",
    "from array import array\n",
    "import numpy as np\n",
    "# %jsroot on\n",
    "\n",
    "#Importing a helper file where some functions are defined\n",
    "from helper import *\n",
    "\n",
    "#Input file\n",
    "inputfile = ROOT.TFile(\"data.root\",\"READ\")\n",
    "\n",
    "#Output file\n",
    "outputfile = ROOT.TFile(\"output.root\",\"RECREATE\")\n",
    "\n",
    "#Accessing the \"TTree\" from root that contains the data (one entry per event)\n",
    "tree = inputfile.Get(\"ntuplizer/tree\")\n",
    "\n",
    "nentries = 1000 # Run only on partial events to speed up the code\n",
    "nentries = tree.GetEntries()\n",
    "print(\"Number of entries: \", nentries)"
   ]
  },
  {
   "cell_type": "code",
   "execution_count": null,
   "id": "dietary-expense",
   "metadata": {},
   "outputs": [],
   "source": [
    "#Example of histograms \n",
    "#The arguments are the following: \n",
    "#\"name\", \"title;x axis title;yaxis title\", nb of bins, min value, max value\n",
    "hist_npv = ROOT.TH1F(\"hist_NPV\", \"NPV;Number of reconstructed vertices;Events\", 100, 0, 100)\n",
    "hist_massfourleptons = ROOT.TH1F(\"hist_massfourleptons\",\";Four Lepton Invariant Mass;Events\", 5000, 0, 500)"
   ]
  },
  {
   "cell_type": "code",
   "execution_count": null,
   "id": "cutting-section",
   "metadata": {},
   "outputs": [],
   "source": [
    "# Loop over entries\n",
    "for i in range(0, nentries):\n",
    "    # Load entry number i\n",
    "    tree.GetEntry(i)\n",
    "    #  Every 1000th entry, print some info\n",
    "    if i % 1000 == 0:\n",
    "        print(\"Event number\", i, \"\\nNb of reconstructed vertices: \", tree._n_PV)\n",
    "    # Fill the number of reconstructed vertices in a histogram\n",
    "    hist_npv.Fill(tree._n_PV)\n",
    "    for lep in range(0,len(tree._lPt)):\n",
    "    # Every 1000th entry, print some info about the leptons in the event\n",
    "        if i%1000==0: \n",
    "            print(\"Lepton number\", lep,\n",
    "                \", pt:\", '%.3f'%tree._lPt[lep], \n",
    "                \", eta:\", '%.3f'%tree._lEta[lep], \n",
    "                \", phi:\", '%.3f'%tree._lPhi[lep], \n",
    "                \", pdgid:\", tree._lpdgId[lep]) # pdgid: e-=11, e+=-11, mu-=13, mu+=-13\n",
    "      \n",
    "    # Here you should do several loops and compute the invariant mass of the four leptons\n",
    "    # The following \n",
    "    mass = invariantmass4l(tree, 0, 1, 2, 3)\n",
    "    hist_massfourleptons.Fill(mass)"
   ]
  },
  {
   "cell_type": "code",
   "execution_count": null,
   "id": "blocked-benjamin",
   "metadata": {},
   "outputs": [],
   "source": [
    "#Draw the histogram and the canvas\n",
    "c = ROOT.TCanvas(\"canvas\",\"c_NPV\",600,600)\n",
    "hist_npv.Draw()\n",
    "c.Draw()\n",
    "savehisto(outputfile, hist_massfourleptons, \"hist_MassFourLeptons\")"
   ]
  }
 ],
 "metadata": {
  "kernelspec": {
   "display_name": "Python 3",
   "language": "python",
   "name": "python3"
  },
  "language_info": {
   "codemirror_mode": {
    "name": "ipython",
    "version": 3
   },
   "file_extension": ".py",
   "mimetype": "text/x-python",
   "name": "python",
   "nbconvert_exporter": "python",
   "pygments_lexer": "ipython3",
   "version": "3.12.1"
  },
  "vscode": {
   "interpreter": {
    "hash": "7a792fcb311f9eb9f3c1b942a8c87ada8484712b89b670347c16a1088e0a1f69"
   }
  }
 },
 "nbformat": 4,
 "nbformat_minor": 5
}
